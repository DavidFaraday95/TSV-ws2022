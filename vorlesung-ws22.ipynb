{
 "cells": [
  {
   "cell_type": "markdown",
   "metadata": {},
   "source": [
    "## 1 Einführung\n",
    "### 1.1 Gegenstand\n",
    "### [1.2 Einsatzgebiete](vorlesung/1_2.ipynb)\n",
    "### [1.3 Teilgebiete](vorlesung/1_3.ipynb)\n",
    "### [1.4 Aufbau und Wissensquellen](vorlesung/1_4.ipynb)"
   ]
  },
  {
   "cell_type": "markdown",
   "metadata": {},
   "source": [
    "## 2  Wiederholung Wahrscheinlichkeitsrechnung\n",
    "### [2.1 Begriffe](vorlesung/2_1.ipynb)\n",
    "### [2.2 Kenngrößen für mehrere Ereignisse](vorlesung/2_2.ipynb)\n",
    "### [2.3 Zufallsvariable und Funktionen von Zufallsvariablen](vorlesung/2_3.ipynb)\n",
    "### [2.4 Beschreibungsgrößen für Zufallsvariable](vorlesung/2_4.ipynb)\n",
    "### [2.5 Schätzfunktionen](vorlesung/2_5.ipynb)\n",
    "### 2.6.Beispiel"
   ]
  },
  {
   "cell_type": "markdown",
   "metadata": {},
   "source": [
    "## 3 Sprachsignale\n",
    "### [3.1 Sprachproduktion](vorlesung/3_1.ipynb)\n",
    "### [3.2 Sprachperzeption](vorlesung/3_2.ipynb)\n",
    "### [3.3 Sprachsignalverarbeitung im Gehirn](vorlesung/3_3.ipynb)\n",
    "### [3.4 Modell der Sprachproduktion](vorlesung/3_4.ipynb)\n",
    "### [3.5 Darstellung von Sprachsignalen](vorlesung/3_5.ipynb)"
   ]
  },
  {
   "cell_type": "markdown",
   "metadata": {},
   "source": [
    "## 4 Merkmale zur Beschreibung von Sprachlauten\n",
    "### [4.1 Eigenschaften des Sprachsignals](vorlesung/4_1.ipynb)\n",
    "### 4.2 Kriterien zur Merkmalauswahl\n",
    "### [4.3 Digitalisierung](vorlesung/4_3.ipynb)\n",
    "### [4.4 Fensterung](vorlesung/4_4.ipynb)\n",
    "### [4.5 Zeitbereichsmerkmale](vorlesung/4_5.ipynb)\n",
    "### [4.6 Merkmale im Frequenzbereich](vorlesung/4_6.ipynb)\n",
    "### [4.7 Cepstrumkoeffizienten](vorlesung/4_7.ipynb)\n",
    "### 4.8 Lineare Vorhersage\n",
    "### 4.9 Dynamische Aspekte"
   ]
  }
 ],
 "metadata": {
  "kernelspec": {
   "display_name": "Python 3",
   "language": "python",
   "name": "python3"
  },
  "language_info": {
   "codemirror_mode": {
    "name": "ipython",
    "version": 3
   },
   "file_extension": ".py",
   "mimetype": "text/x-python",
   "name": "python",
   "nbconvert_exporter": "python",
   "pygments_lexer": "ipython3",
   "version": "3.8.3"
  }
 },
 "nbformat": 4,
 "nbformat_minor": 4
}
