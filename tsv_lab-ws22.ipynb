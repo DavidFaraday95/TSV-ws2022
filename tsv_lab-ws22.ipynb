{
 "cells": [
  {
   "cell_type": "markdown",
   "metadata": {},
   "source": [
    "# Technische Sprachverarbeitung\n",
    "## 1 Einführung\n",
    "### 1.1 Gegenstand\n",
    "\n",
    "### 1.2 Einsatzgebiete\n",
    "\n",
    "### 1.3 Teilgebiete\n",
    "\n",
    "### 1.4 Aufbau und  Wissensquellen"
   ]
  },
  {
   "cell_type": "markdown",
   "metadata": {},
   "source": [
    "## 2 Wiederholung Wahrscheinlichkeitsrechnung\n",
    "### 2.1 Begriffe\n",
    "### 2.2 Verbundwahrscheinlichkeit\n",
    "### 2.3 Bedingte Wahrscheinlichkeit\n",
    "### 2.4 Satz von Bayes\n",
    "### 2.5 Zufallsvariable und Funktionen von Zufallsvariablen\n",
    "### 2.6 Beschreibungsgrößen für Zufallsvariable\n",
    "### 2.7 Schätzfunktionen\n",
    "### 2.8 Beispiel (Ziegenproblem)"
   ]
  },
  {
   "cell_type": "markdown",
   "metadata": {},
   "source": [
    "## 3 Sprachsignale\n",
    "### 3.1 Sprachproduktion\n",
    "\n",
    "### 3.2 Sprachperzeption\n",
    "\n",
    "### 3.3 Sprachsignalverarbeitung im Gehirn"
   ]
  },
  {
   "cell_type": "markdown",
   "metadata": {},
   "source": [
    "### Formanten\n",
    "lokale Maxima des Leistungsdichtespektrums"
   ]
  },
  {
   "cell_type": "code",
   "execution_count": null,
   "metadata": {},
   "outputs": [],
   "source": [
    "%matplotlib inline\n",
    "from IPython.display import Audio\n",
    "from scipy import signal\n",
    "import numpy as np\n",
    "import functions.select as sel\n",
    "import matplotlib.pyplot as plt"
   ]
  },
  {
   "cell_type": "code",
   "execution_count": null,
   "metadata": {},
   "outputs": [],
   "source": [
    "sig_t = sel.Signal()\n",
    "sig_t.show_tsig()"
   ]
  },
  {
   "cell_type": "code",
   "execution_count": null,
   "metadata": {},
   "outputs": [],
   "source": [
    "Audio(data = sig_t.Data, rate = sig_t.fS)"
   ]
  },
  {
   "cell_type": "code",
   "execution_count": null,
   "metadata": {},
   "outputs": [],
   "source": [
    "freqs, times, spectrogram = signal.spectrogram(sig_t.Data, nperseg=1024) \n",
    "plt.figure(figsize=(10, 5))\n",
    "plt.imshow(np.round(spectrogram, 2), vmax=1, aspect='auto', origin='lower', extent=[0,len(sig_t.Data)/sig_t.fS,0,0.5*sig_t.fS])\n",
    "plt.title('Spektrogramm')\n",
    "plt.ylabel('Frequenz (Hz)')\n",
    "plt.xlabel('Zeit (s)')\n",
    "plt.grid(True)\n",
    "plt.tight_layout()"
   ]
  },
  {
   "cell_type": "code",
   "execution_count": null,
   "metadata": {},
   "outputs": [],
   "source": [
    "freqs, psd = signal.welch(sig_t.Data, nperseg=1024)\n",
    "plt.figure(figsize=(10, 5))\n",
    "plt.semilogx(freqs*sig_t.fS, psd)\n",
    "#plt.plot(freqs*sig_t.fS, psd)\n",
    "plt.title('Leistungsdichtespektrum')\n",
    "plt.xlabel('Frequenz (Hz)')\n",
    "plt.ylabel('Leistung')\n",
    "plt.grid(True)\n",
    "plt.tight_layout()"
   ]
  },
  {
   "cell_type": "markdown",
   "metadata": {},
   "source": [
    "#### Demonstration Verdeckungseffekt"
   ]
  },
  {
   "cell_type": "code",
   "execution_count": null,
   "metadata": {},
   "outputs": [],
   "source": [
    "from IPython.display import Audio\n",
    "import functions.signal as sig\n",
    "import functions.select as sel"
   ]
  },
  {
   "cell_type": "markdown",
   "metadata": {},
   "source": [
    "#### Auswahl der Parameter\n",
    "Es werden 2 Signale erzeugt:\n",
    "- Signal 1: bandpassgefiltertes Gaußsches weißes Rauschen mit vorgegebenem $\\mu$ und $\\sigma$ (Mittenfrequenz $1000 Hz$, Bandbreite $200 Hz$, Butterworth-TP 4. Ordnung), für dieses Signal kann die maximale Amplitude vorgegeben werden\n",
    "- Signal 2: Sinuston mit wählbarer Frequenz und Amplitude"
   ]
  },
  {
   "cell_type": "code",
   "execution_count": null,
   "metadata": {},
   "outputs": [],
   "source": [
    "mu = 0        #Amplitudenmittelwert\n",
    "sigma = 0.2   #Standardabweichung\n",
    "dur = 3       #Signaldauer\n",
    "fs = 16000    #Abtastfrequenz\n",
    "smax = 2      #max. Amplitude des Schmalbandrauschens"
   ]
  },
  {
   "cell_type": "markdown",
   "metadata": {},
   "source": [
    "Das Rausch- und das Schmalbandrauschsignal wird erzeugt und dargestellt."
   ]
  },
  {
   "cell_type": "code",
   "execution_count": null,
   "metadata": {},
   "outputs": [],
   "source": [
    "noise = sig.Noise()\n",
    "noise.create_Noise(mu, sigma, dur, fs)\n",
    "noise.filt_noise(smax)\n",
    "noise.plot_Noise_filt(smax)"
   ]
  },
  {
   "cell_type": "markdown",
   "metadata": {},
   "source": [
    "Audioausgabe Rauschsignal"
   ]
  },
  {
   "cell_type": "code",
   "execution_count": null,
   "metadata": {},
   "outputs": [],
   "source": [
    "Audio(data = noise.Data, rate = fs)"
   ]
  },
  {
   "cell_type": "markdown",
   "metadata": {},
   "source": [
    "Audioausgabe Schmalbandrauschen"
   ]
  },
  {
   "cell_type": "code",
   "execution_count": null,
   "metadata": {},
   "outputs": [],
   "source": [
    "Audio(data = noise.Data_filtered, rate = fs)"
   ]
  },
  {
   "cell_type": "markdown",
   "metadata": {},
   "source": [
    "Für das Sinussignal kann die Frequenz und Amplitude eingestellt werden. Das erzeugte Signal kann angehört werden."
   ]
  },
  {
   "cell_type": "code",
   "execution_count": null,
   "metadata": {},
   "outputs": [],
   "source": [
    "tsig = sel.Test_sig(fs, dur)\n",
    "tsig.create_Tsig()"
   ]
  },
  {
   "cell_type": "markdown",
   "metadata": {},
   "source": [
    "Das Schmalbandrauschen und das Sinussignal werden überlagert und ausgegeben.\n",
    "\n",
    "**Hinweis:** Die folgende Zelle muss für jede Änderung des Sinussignals erneut abgearbeitet werden."
   ]
  },
  {
   "cell_type": "code",
   "execution_count": null,
   "metadata": {},
   "outputs": [],
   "source": [
    "Audio(data = noise.Data_filtered + tsig.Tsig, rate = fs, autoplay=True)"
   ]
  },
  {
   "cell_type": "markdown",
   "metadata": {},
   "source": [
    "Für die aktuelle Signalkombination wird das Spektrum angezeigt."
   ]
  },
  {
   "cell_type": "code",
   "execution_count": null,
   "metadata": {},
   "outputs": [],
   "source": [
    "noise.show_spec(noise.Data_filtered, tsig.Tsig)"
   ]
  },
  {
   "cell_type": "markdown",
   "metadata": {},
   "source": [
    "### 3.4 Modell der Sprachproduktion\n",
    "\n",
    "### 3.5 Darstellung von Sprachsignalen"
   ]
  },
  {
   "cell_type": "code",
   "execution_count": null,
   "metadata": {},
   "outputs": [],
   "source": [
    "from IPython.display import Audio\n",
    "import functions.signal as sig\n",
    "import functions.select as sel\n",
    "from matplotlib.widgets import SpanSelector"
   ]
  },
  {
   "cell_type": "markdown",
   "metadata": {},
   "source": [
    "#### Schalldruck-Zeit-Verlauf"
   ]
  },
  {
   "cell_type": "code",
   "execution_count": null,
   "metadata": {},
   "outputs": [],
   "source": [
    "%matplotlib inline\n",
    "sig_t = sel.Signal()\n",
    "sig_t.show_tsig()"
   ]
  },
  {
   "cell_type": "code",
   "execution_count": null,
   "metadata": {},
   "outputs": [],
   "source": [
    "Audio(data = sig_t.Data, rate = sig_t.fS)"
   ]
  },
  {
   "cell_type": "markdown",
   "metadata": {},
   "source": [
    "#### Auswahl von Signalabschnitten\n",
    "**Hinweis:** Die folgende Zelle muss evtl. zweimal abgearbeitet werden, damit der erzeugte Inhalt sichtbar wird.\n",
    "\n",
    "In der dann sichtbaren oberen Darstellung kann mit gedrückter linker Maustaste ein Bereich ausgewählt werden, der im unteren Teil gezoomt dargestellt wird."
   ]
  },
  {
   "cell_type": "code",
   "execution_count": null,
   "metadata": {},
   "outputs": [],
   "source": [
    "%matplotlib notebook\n",
    "ax1, ax2, line2, x, y, fs = sig_t.sel_parts()\n",
    "onselect = sel.Onselect(ax2, line2, x, y)\n",
    "span = SpanSelector(ax1, onselect, 'horizontal', useblit=True, rectprops=dict(alpha=0.5, facecolor='red'))"
   ]
  },
  {
   "cell_type": "markdown",
   "metadata": {},
   "source": [
    "#### Spektrogrammdarstellung"
   ]
  },
  {
   "cell_type": "code",
   "execution_count": null,
   "metadata": {},
   "outputs": [],
   "source": [
    "%matplotlib inline\n",
    "sig_t.show_spec(NFFT=512, noverlap=256)"
   ]
  },
  {
   "cell_type": "markdown",
   "metadata": {},
   "source": [
    "## 4 Merkmale zur Beschreibung von Sprachlauten\n",
    "### 4.1 Eigenschaften des Sprachsignals\n",
    "### 4.2 Kriterien zur Merkmalauswahl\n",
    "### 4.3 Digitalisierung\n",
    "### 4.4 Fensterung\n",
    "\n",
    "Auswirkung der Zeitfensterauswahl  bei Sinussignalen"
   ]
  },
  {
   "cell_type": "code",
   "execution_count": null,
   "metadata": {},
   "outputs": [],
   "source": [
    "import functions.select as sel\n",
    "sel.demo_windowing()"
   ]
  },
  {
   "cell_type": "markdown",
   "metadata": {},
   "source": [
    "### 4.5 Zeitbereichsmerkmale\n",
    "#### Energie"
   ]
  },
  {
   "cell_type": "code",
   "execution_count": null,
   "metadata": {
    "scrolled": false
   },
   "outputs": [],
   "source": [
    "import functions.select as sel\n",
    "sig_t = sel.Signal()\n",
    "sig_t.energy()"
   ]
  },
  {
   "cell_type": "markdown",
   "metadata": {},
   "source": [
    "#### Autokorrelation\n",
    "\n",
    "Für das oben ausgewählte Signal wird die AKF für das mit dem Slider ausgewählte Zeitfenster der Dauer von 25 ms dargestellt."
   ]
  },
  {
   "cell_type": "code",
   "execution_count": null,
   "metadata": {},
   "outputs": [],
   "source": [
    "sig_t.show_akf()"
   ]
  },
  {
   "cell_type": "code",
   "execution_count": null,
   "metadata": {},
   "outputs": [],
   "source": [
    "sig_t.show_all_akf(1024, 512)"
   ]
  },
  {
   "cell_type": "markdown",
   "metadata": {},
   "source": [
    "#### Nulldurchgangsrate"
   ]
  },
  {
   "cell_type": "code",
   "execution_count": null,
   "metadata": {},
   "outputs": [],
   "source": [
    "import functions.select as sel\n",
    "sig_t = sel.Signal()\n",
    "sig_t.zero_cross()"
   ]
  },
  {
   "cell_type": "markdown",
   "metadata": {},
   "source": [
    "### 4.6 Merkmale im Frequenzbereich\n",
    "#### Kurzzeitspektrum\n",
    "Darstellung des Frequenzgehaltes in jedem Zeitfenster"
   ]
  },
  {
   "cell_type": "code",
   "execution_count": null,
   "metadata": {},
   "outputs": [],
   "source": [
    "import functions.select as sel\n",
    "sig_t = sel.Signal()\n",
    "sig_t.shorttime_fft()"
   ]
  },
  {
   "cell_type": "markdown",
   "metadata": {},
   "source": [
    "### 4.7 Cepstrumkoeffizienten"
   ]
  }
 ],
 "metadata": {
  "kernelspec": {
   "display_name": "Python 3 (ipykernel)",
   "language": "python",
   "name": "python3"
  },
  "language_info": {
   "codemirror_mode": {
    "name": "ipython",
    "version": 3
   },
   "file_extension": ".py",
   "mimetype": "text/x-python",
   "name": "python",
   "nbconvert_exporter": "python",
   "pygments_lexer": "ipython3",
   "version": "3.9.12"
  }
 },
 "nbformat": 4,
 "nbformat_minor": 1
}
