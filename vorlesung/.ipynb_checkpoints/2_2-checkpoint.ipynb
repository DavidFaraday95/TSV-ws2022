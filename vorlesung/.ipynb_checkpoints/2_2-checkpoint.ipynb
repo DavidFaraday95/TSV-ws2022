{
 "cells": [
  {
   "cell_type": "markdown",
   "metadata": {},
   "source": [
    "### 2.2 Kenngrößen für mehrere Ereignisse\n",
    "- **Verbundwahrscheinlichkeit**\n",
    "\n",
    "gleichzeitiges Auftreten zweier Ereignisse\n",
    "$$\n",
    "P\\left(A,B\\right)=P\\left(A \\cap B\\right)\n",
    "$$\n",
    "\n",
    "- **Bedingte Wahrscheinlichkeit**\n",
    "\n",
    "Wahrscheinlichkeit des Auftretens des Ereignisses A unter der Bedingung, dass Ereignis B schon eingetreten ist\n",
    "$$\n",
    "P\\left(A|B\\right)=\\frac{P\\left(A , B\\right)}{P\\left(B\\right)}\n",
    "$$\n",
    "bei unabhängigen Ereignissen: \n",
    "$$\n",
    "P \\left( A|B\\right)= P\\left(A\\right) \\, damit: \\, P\\left(A,B\\right)=P\\left(A\\right)\\cdot P\\left(B\\right)\n",
    "$$\n",
    "\n",
    "- **Satz von Bayes**\n",
    "\n",
    "Ereignisse A und B liegen gleichzeitig vor und sind nicht unabhängig\n",
    "$$\n",
    "P \\left(A,B\\right)=P\\left(A|B\\right)\\cdot P\\left(B\\right)= P\\left(B|A\\right)\\cdot P\\left(A\\right)\n",
    "$$\n",
    "damit:\n",
    "$$\n",
    "\\boxed{P\\left(A|B\\right)= \\frac{P\\left(B|A\\right)\\cdot P\\left(A\\right)}{P\\left(B\\right)}}\n",
    "$$\n",
    "mit $ P\\left(A\\right) \\ldots $ a-priori-Wahrscheinlichkeit und $ P\\left(A | B \\right) \\ldots $ a-posteriori-Wahrscheinlichkeit"
   ]
  }
 ],
 "metadata": {
  "kernelspec": {
   "display_name": "Python 3",
   "language": "python",
   "name": "python3"
  },
  "language_info": {
   "codemirror_mode": {
    "name": "ipython",
    "version": 3
   },
   "file_extension": ".py",
   "mimetype": "text/x-python",
   "name": "python",
   "nbconvert_exporter": "python",
   "pygments_lexer": "ipython3",
   "version": "3.8.3"
  }
 },
 "nbformat": 4,
 "nbformat_minor": 4
}
