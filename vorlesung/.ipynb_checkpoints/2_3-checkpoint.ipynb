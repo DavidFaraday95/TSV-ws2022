{
 "cells": [
  {
   "cell_type": "markdown",
   "metadata": {},
   "source": [
    "### 2.3 Zufallsvariable und Funktionen von Zufallsvariablen\n",
    "Variable, deren Werte die Ergebnisse eines Zufallsvorganges sind\n",
    "\n",
    "Notation:\n",
    "- $X \\ldots$ Zufallsvariable\n",
    "- $x \\ldots$  eine Realisierung der Zufallsvariable\n",
    "\n",
    "\n",
    "**Funktion einer Zufallsvariable**\n",
    "\n",
    "von dem Wert der Zufallsvariablen abhängige Größe \n",
    "\n",
    "**Dichtefunktion**\n",
    "\n",
    "Zufallsvariable X mit den Werten x\n",
    "$$\n",
    "f\\left(x\\right)=\\begin{cases}\n",
    "P\\left(X=x_{i}\\right)=p_{i} & \\text{falls } x=x_{i}\\in\\left\\{ x_{1},\\ldots,x_{k},\\ldots\\right\\} \\\\\n",
    "0 & \\text{sonst}\n",
    "\\end{cases}\n",
    "$$\n",
    "\n",
    "**Verteilungsfunktion**\n",
    "\n",
    "beschreibt die Wahrscheinlichkeit, dass der Wert einer Zufallsvariablen X kleiner als eine Schranke $x_{S}$ ist\n",
    "$$\n",
    "F\\left(x_{S}\\right)=P\\left(X\\leq x_{S}\\right)=\\underset{i:x_{i}\\leq x_{S}}{\\sum}\\underset{}{P\\left(x_{i}\\right)}\n",
    "$$"
   ]
  }
 ],
 "metadata": {
  "kernelspec": {
   "display_name": "Python 3",
   "language": "python",
   "name": "python3"
  },
  "language_info": {
   "codemirror_mode": {
    "name": "ipython",
    "version": 3
   },
   "file_extension": ".py",
   "mimetype": "text/x-python",
   "name": "python",
   "nbconvert_exporter": "python",
   "pygments_lexer": "ipython3",
   "version": "3.8.3"
  }
 },
 "nbformat": 4,
 "nbformat_minor": 4
}
