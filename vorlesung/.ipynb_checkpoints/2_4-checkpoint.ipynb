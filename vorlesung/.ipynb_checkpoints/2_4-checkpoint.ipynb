{
 "cells": [
  {
   "cell_type": "markdown",
   "metadata": {},
   "source": [
    "### 2.4 Beschreibungsgrößen für Zufallsvariable\n",
    "**Erwartungswert**\n",
    "\n",
    "Zahl, die Zufallsvariable im Mittel annimmt\n",
    "$$\n",
    "E\\left(X\\right)=\\sum x_{i}\\cdot P\\left(x_{i}\\right)\n",
    "$$\n",
    "\n",
    "**Varianz**\n",
    "\n",
    "Maßzahl, die Streuung einer Zufallsvariablen um ihren Erwartungswert beschreibt\n",
    "$$\n",
    "var\\left(X\\right)= E\\left(\\left(X-E\\left(X\\right)\\right)^{2}\\right) \\; ; \\; \\sigma = \\sqrt{var\\left(X\\right)}\n",
    "$$\n",
    "\n",
    "**Kovarianz**\n",
    "\n",
    "beschreibt statistischen Zusammenhang zwischen 2 Zufallsvariablen\n",
    "$$\n",
    "cov\\left(X,Y\\right) = E\\left(\\left(X-E\\left(X\\right)\\right)\\cdot\\left(Y-E\\left(Y\\right)\\right)\\right)\n",
    "$$\n",
    "\n",
    "**Pearsonscher Korrelationskoeffizient**\n",
    "$$\n",
    "\\varrho\\left(X,Y\\right)=\\frac{var\\left(X,Y\\right)}{\\sigma\\left(X\\right)\\sigma\\left(Y\\right)}\n",
    "$$\n",
    "\n",
    "$ \\varrho\\left(X,Y\\right) = 0 \\rightarrow X, Y$ unkorreliert\n",
    "    \n",
    "$ \\varrho\\left(X,Y\\right) = 1 \\rightarrow X=Y $\n",
    "    \n",
    "$ \\varrho\\left(X,Y\\right) = -1 \\rightarrow X=-Y $\n"
   ]
  }
 ],
 "metadata": {
  "kernelspec": {
   "display_name": "Python 3",
   "language": "python",
   "name": "python3"
  },
  "language_info": {
   "codemirror_mode": {
    "name": "ipython",
    "version": 3
   },
   "file_extension": ".py",
   "mimetype": "text/x-python",
   "name": "python",
   "nbconvert_exporter": "python",
   "pygments_lexer": "ipython3",
   "version": "3.8.3"
  }
 },
 "nbformat": 4,
 "nbformat_minor": 4
}
