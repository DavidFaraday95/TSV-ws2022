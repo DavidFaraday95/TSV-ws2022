{
 "cells": [
  {
   "cell_type": "markdown",
   "metadata": {},
   "source": [
    "### 4.1 Eigenschaften des Sprachsignals\n",
    "- langsames Signal (Änderungen im Signal ab ca. 100 ms erkennbar)\n",
    "- Grundfrequenz (Stimmbandschwingungen) ca. 80-350 Hz\n",
    "- Frequenz und Amplitude ändern sich\n",
    "- Artikulationstrakt entspricht Filter\n",
    "- Laute entsprechen typischen Spektrogrammmustern\n",
    "- Vokale weitgehend stationär\n",
    "- Konsonanten mit veränderlichem Lautspektrum"
   ]
  }
 ],
 "metadata": {
  "kernelspec": {
   "display_name": "Python 3",
   "language": "python",
   "name": "python3"
  },
  "language_info": {
   "codemirror_mode": {
    "name": "ipython",
    "version": 3
   },
   "file_extension": ".py",
   "mimetype": "text/x-python",
   "name": "python",
   "nbconvert_exporter": "python",
   "pygments_lexer": "ipython3",
   "version": "3.7.7"
  }
 },
 "nbformat": 4,
 "nbformat_minor": 4
}
