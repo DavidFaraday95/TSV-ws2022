{
 "cells": [
  {
   "cell_type": "markdown",
   "metadata": {},
   "source": [
    "### 2.1 Begriffe\n",
    "- **Zufallsexperiment**\n",
    "\n",
    "unter gleichen Bedingungen wiederholbarer Vorgang mit mehreren möglichen Ausgängen (Beispiel: Würfeln mit einem Würfel)\n",
    "\n",
    "- **Ergebnis eines Zufallsexperiments**\n",
    "\n",
    "konreter Ausgang eines Zufallsexperiments (Beispiel: 2 ist gewürfelt)\n",
    "\n",
    "- **Ergebnismenge, Stichprobenraum**\n",
    "\n",
    "alle möglichen Ergebnisse eines Zufallsexperiments\n",
    "\n",
    "- **Elementarereignis**\n",
    "\n",
    "Ereignis mit einelementiger Ergebnismenge (Beispiel: 2 ist gewürfelt)\n",
    "\n",
    "- **Ereignis**\n",
    "\n",
    "Zusammenfassung möglicher Elementarereignisse eines Zufallsexperiments (Beispiel: Augenzahl ist gerade; Augenzahl ist kleiner 3)\n",
    "\n",
    "- **Wahrscheinlichkeit**\n",
    "\n",
    "Einstufung von Ereignissen nach dem Grad der Gewissheit (Sicherheit)\n",
    "\n",
    "- **Wahrscheinlichkeitsmaß, Wahrscheinlichkeitsverteilung**\n",
    "\n",
    "Abbildung: $ P(A \\in \\Omega ) \\rightarrow [0,1]  $ mit $ A \\ldots $ Ereignis und $ \\Omega \\ldots $ Ergebnismenge\n",
    "\n",
    "- **Wahrscheinlichkeitsaxiome**\n",
    "\n",
    "    - $ P\\left(\\Omega\\right)=1 $\n",
    "    - $ 0 \\leq P\\left(A\\right) \\leq 1 $\n",
    "    - $ P\\left( A \\cup B \\right)= P\\left(A \\right) + P\\left(B \\right), \\text{falls} \\, A \\cap B = \\oslash $\n",
    "\n",
    "- **Berechnung von Wahrscheinlichkeiten**\n",
    "$$\n",
    "P=\\frac{\\text{Anzahl günstiger Fälle}}{\\text{Anzahl möglicher Fälle}}\n",
    "$$"
   ]
  }
 ],
 "metadata": {
  "kernelspec": {
   "display_name": "Python 3",
   "language": "python",
   "name": "python3"
  },
  "language_info": {
   "codemirror_mode": {
    "name": "ipython",
    "version": 3
   },
   "file_extension": ".py",
   "mimetype": "text/x-python",
   "name": "python",
   "nbconvert_exporter": "python",
   "pygments_lexer": "ipython3",
   "version": "3.8.3"
  }
 },
 "nbformat": 4,
 "nbformat_minor": 4
}
