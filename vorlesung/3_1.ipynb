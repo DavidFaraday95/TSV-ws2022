{
 "cells": [
  {
   "cell_type": "markdown",
   "metadata": {},
   "source": [
    "### 3.1 Sprachproduktion"
   ]
  },
  {
   "cell_type": "markdown",
   "metadata": {},
   "source": [
    "<details>\n",
    "<summary>Artikulationstrakt</summary>\n",
    "<img src=\"images/3_1-1.jpg\" width=\"600\">\n",
    "</details>"
   ]
  },
  {
   "cell_type": "markdown",
   "metadata": {},
   "source": [
    "<details>\n",
    "<summary>Artikulationsorte</summary>\n",
    "<img src=\"images/3_1-2.jpg\" width=\"600\">\n",
    "</details>"
   ]
  },
  {
   "cell_type": "markdown",
   "metadata": {},
   "source": [
    "<details>\n",
    "<summary>Lautgruppen</summary>\n",
    "<img src=\"images/3_1-3.jpg\" width=\"600\">\n",
    "</details>"
   ]
  },
  {
   "cell_type": "markdown",
   "metadata": {},
   "source": [
    "<details>\n",
    "<summary>Zungenstellung Vokale</summary>\n",
    "<img src=\"images/3_1-4.jpg\" width=\"600\">\n",
    "<img src=\"images/3_1-5.jpg\" width=\"600\"></details>"
   ]
  },
  {
   "cell_type": "markdown",
   "metadata": {},
   "source": [
    "<details>\n",
    "<summary>Artikulationsorte Konsonanten</summary>\n",
    "<img src=\"images/3_1-6.jpg\" width=\"600\">\n",
    "</details>"
   ]
  },
  {
   "cell_type": "markdown",
   "metadata": {},
   "source": [
    "<details>\n",
    "<summary>Artikulationsarten Konsonanten</summary>\n",
    "<img src=\"images/3_1-7.jpg\" width=\"600\">\n",
    "</details>"
   ]
  },
  {
   "cell_type": "markdown",
   "metadata": {},
   "source": [
    "<details>\n",
    "<summary>SAMPA-Notation Deutsch</summary>\n",
    "<img src=\"images/3_1-8.jpg\" width=\"600\">\n",
    "</details>"
   ]
  }
 ],
 "metadata": {
  "kernelspec": {
   "display_name": "Python 3",
   "language": "python",
   "name": "python3"
  },
  "language_info": {
   "codemirror_mode": {
    "name": "ipython",
    "version": 3
   },
   "file_extension": ".py",
   "mimetype": "text/x-python",
   "name": "python",
   "nbconvert_exporter": "python",
   "pygments_lexer": "ipython3",
   "version": "3.8.3"
  }
 },
 "nbformat": 4,
 "nbformat_minor": 4
}
