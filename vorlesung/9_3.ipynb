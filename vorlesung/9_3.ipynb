{
 "cells": [
  {
   "cell_type": "markdown",
   "metadata": {},
   "source": [
    "### 9.3 Dialogentwurf\n",
    "#### Beispiel Deutsche Bahn"
   ]
  },
  {
   "cell_type": "markdown",
   "metadata": {},
   "source": [
    "Herzlich Willkommen beim Reiseservice der Deutschen Bahn. Unser Sprachdialogsystem bietet Ihnen Fahrplanauskünfte rund um die Uhr. Bitte nennen Sie jetzt Ihren Abfahrtsbahnhof. Wenn Sie Hilfe zu unserem Service möchten, sagen Sie \"Anleitung\".\n",
    "\n",
    "<span style=\"color:green\">Dresden Hauptbahhof</span>\n",
    "\n",
    "Möchten Sie von Dresden Hauptbahnhof abfahren?\n",
    "\n",
    "<span style=\"color:green\">ja </span>\n",
    "\n",
    "Wohin möchten Sie fahren?\n",
    "\n",
    "<span style=\"color:green\">nach Berlin Ostbahnhof </span>\n",
    "\n",
    "Möchten Sie nach Berlin Ostbahnhof fahren?\n",
    "\n",
    "<span style=\"color:green\">ja</span>\n",
    "\n",
    "Wählen Sie jetzt die Art der Verbindungssuche und sagen Sie \"Abfahrtszeit\" oder \"Ankunftszeit\".\n",
    "\n",
    "<span style=\"color:green\">Abfahrtszeit</span>\n",
    "\n",
    "An welchem Tag möchten Sie abfahren?\n",
    "\n",
    "<span style=\"color:green\">am kommenden Samstag</span>\n",
    "\n",
    "Sie möchten also am 22. Oktober abfahren?\n",
    "\n",
    "<span style=\"color:green\">ja</span>\n",
    "\n",
    "Um welche Uhrzeit möchten Sie abfahren?\n",
    "\n",
    "<span style=\"color:green\">zehn Uhr dreißig</span>\n",
    "\n",
    "Sie möchten also um zehn Uhr dreißig vormittags abfahren?\n",
    "\n",
    "<span style=\"color:green\">ja</span>\n",
    "\n",
    "Es gibt die folgende Verbindung: am 22. Oktober um 10:08 Uhr vormittags von Dresden Hauptbahnhof, Ankunft in Berlin Ostbahnhof um 13:24 Uhr. Möchten Sie den Umstieg zu dieser Verbindung hören?\n",
    "\n",
    "<span style=\"color:green\">ja</span>\n",
    "\n",
    "Am 22. Oktober mit ICE 1650 um 10:08 Uhr vormittags von Dresden Hauptbahnhof, Abfahrt von Gleis 14, Ankunft in Leipzig Hauptbahnhof um 11:14 Uhr vormittags an Gleis 10, umsteigen in ICE 1612, weiter um 11:50 Uhr vormittags von Gleis 11, Ankunft in Berlin Ostbahnhof um 13:24 Uhr an Gleis 7. Bitte beachten Sie mögliche Gleisänderungen vor Ort. \n",
    "Bitte wählen Sie jetzt aus \"wiederholen\", \"früher\", \"später\" oder \"weiter\".\n",
    "\n",
    "<span style=\"color:green\">weiter</span>\n",
    "\n",
    "Bitte wählen Sie eine der folgenden Möglichkeiten: \"Rückfahrt suchen\", \"andere Zeit eingeben\", \"neue Verbindung suchen\", \"Buchung und Kauf\" oder \"Ende\".\n",
    "\n",
    "<span style=\"color:green\">Ende</span>\n",
    "\n",
    "Vielen Dank für Ihren Anruf. Wir wünschen Ihnen eine gute Reise. Auf Wiederhören."
   ]
  },
  {
   "cell_type": "code",
   "execution_count": null,
   "metadata": {},
   "outputs": [],
   "source": [
    "from scipy.io import wavfile\n",
    "from IPython.display import Audio\n",
    "fs, data = wavfile.read('sound/db_auskunft.wav')\n",
    "Audio(data=data, rate=fs)"
   ]
  },
  {
   "cell_type": "markdown",
   "metadata": {},
   "source": [
    "#### Beispiel Doris"
   ]
  },
  {
   "cell_type": "markdown",
   "metadata": {},
   "source": [
    "Hallo, ich bin Doris. Möchten Sie eine Verbindung mit Abfahrtszeit oder eine Verbindung mit Ankunftszeit oder eine Haltestellenauskunft?\n",
    "\n",
    "<span style=\"color:green\">mit Abfahrtszeit</span>\n",
    "\n",
    "Bitte geben Sie Start, Ziel und die Abfahrtszeit an.\n",
    "\n",
    "<span style=\"color:green\">9 Uhr von Dippoldiswalde Busbahnhof nach Bad Schandau Bahnhof</span>\n",
    "\n",
    "Sie möchten 9 Uhr von Dippoldiswalde Haltestelle Busbahnhof nach Bad Schandau Haltestelle Bahnhof fahren. Ist das richtig?\n",
    "\n",
    "<span style=\"color:green\">ja</span>\n",
    "\n",
    "Die von Ihnen gewünschte Auskunft wird ermittelt. Einen Augenblick, bitte.\n",
    "Die Auskunft wird angesagt. Um 9:15 Uhr mit Regio-Buslinie 360 ab Dippoldiswalde Busbahnhof in Richtung Dresden Hauptbahnhof, umsteigen an Haltestelle Dresden Hauptbahnhof, um 10:09 Uhr IC171 ab Dresden Hauptbahnhof in Richtung Budapest keleti pu. bis Bad Schandau Bahnhof. Fahrzeit 83 Minuten. Diese Auskunft wurde vom Verkehrsverbund Oberelbe erteilt.!\n",
    "\n",
    "Möchten Sie eine Verbindung später, eine früher oder diese noch einmal hören?\n",
    "\n",
    "<span style=\"color:green\">eine später</span>\n",
    "\n",
    "Die Auskunft wird angesagt. Um 9:45 Uhr mit Regio-Buslinie 360 ab Dippoldiswalde Busbahnhof in Richtung Dresden Ammon/Budapester Str., umsteigen an Haltestelle Dresden Hauptbahnhof, um 10:30 Uhr mit S-Bahn Linie S1 ab Dresden Hauptbahnhof in Richtung Schöna Bahnhof bis Bad Schandau. Fahrzeit 93 Minuten. Diese Auskunft wurde vom Verkehrsverbund Oberelbe erteilt.\n",
    "Möchten Sie eine Verbindung später, eine früher oder diese noch einmal hören?\n",
    "\n",
    "<span style=\"color:green\">nein</span>\n",
    "\n",
    "Möchten Sie eine weitere Auskunft?\n",
    "\n",
    "<span style=\"color:green\">nein</span>\n",
    "\n",
    "Vielen Dank für Ihren Anruf. Auf Wiederhören."
   ]
  },
  {
   "cell_type": "code",
   "execution_count": null,
   "metadata": {},
   "outputs": [],
   "source": [
    "fs, data = wavfile.read('sound/doris.wav')\n",
    "Audio(data=data, rate=fs)"
   ]
  }
 ],
 "metadata": {
  "kernelspec": {
   "display_name": "Python 3",
   "language": "python",
   "name": "python3"
  },
  "language_info": {
   "codemirror_mode": {
    "name": "ipython",
    "version": 3
   },
   "file_extension": ".py",
   "mimetype": "text/x-python",
   "name": "python",
   "nbconvert_exporter": "python",
   "pygments_lexer": "ipython3",
   "version": "3.7.7"
  }
 },
 "nbformat": 4,
 "nbformat_minor": 4
}
