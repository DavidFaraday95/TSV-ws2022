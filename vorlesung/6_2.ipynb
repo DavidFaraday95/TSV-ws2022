{
 "cells": [
  {
   "cell_type": "markdown",
   "metadata": {},
   "source": [
    "### 6.2 Hidden Markov Modelle\n",
    "Die in 6.2 dargestellten Bilder sind größtenteils entnommen aus:\n",
    "\n",
    "Pfister, Kaufmann: Sprachverarbeitung; Springer-Verlag 2008\n",
    "##### 6.2.1 HMMs für die Spracherkennung\n",
    "allgemein:\n",
    "\n",
    "<img src=\"images/6_2-1.jpg\" height=\"300\" width=\"500\" style=\"float: left;\">"
   ]
  },
  {
   "cell_type": "markdown",
   "metadata": {},
   "source": [
    "lineares Modell:\n",
    "    \n",
    "<img src = 'images/6_2-2.jpg' style=\"float: left;\">\n",
    "<img src = 'images/6_2-3.jpg' style=\"float: left;\">"
   ]
  },
  {
   "cell_type": "markdown",
   "metadata": {},
   "source": [
    "Links-Rechts-Modell:\n",
    "\n",
    "<img src = 'images/6_2-4.jpg' style=\"float: left;\">\n",
    "<img src = 'images/6_2-5.jpg' style=\"float: left;\">"
   ]
  },
  {
   "cell_type": "markdown",
   "metadata": {},
   "source": [
    "Bakis-Modell:\n",
    "\n",
    "<img src = 'images/6_2-6.jpg' style=\"float: left;\" width = '400'>\n",
    "<img src = 'images/6_2-7.jpg' style=\"float: left;\" width = '250'>"
   ]
  },
  {
   "cell_type": "markdown",
   "metadata": {},
   "source": [
    "##### 6.2.2 Diskrete und kontinuierliche HMM\n",
    "<img src=\"images/6_2-8.jpg\" height=\"300\" width=\"400\" style=\"float: left;\">"
   ]
  },
  {
   "cell_type": "markdown",
   "metadata": {},
   "source": [
    "Beispiel: 2-dimensionale Merkmale, diskrete Emissionen (nach Vektorquantisierung)\n",
    "\n",
    "<img src=\"images/6_2-10.jpg\" height=\"300\" width=\"500\" style=\"float: left;\">"
   ]
  },
  {
   "cell_type": "markdown",
   "metadata": {},
   "source": [
    "##### 6.2.3 Probleme für den Einsatz von HMM\n",
    "Trellis\n",
    "\n",
    "<img src = \"images/6_2-11.jpg\" width=\"500\" style=\"float: left;\">"
   ]
  },
  {
   "cell_type": "markdown",
   "metadata": {},
   "source": [
    "Vorwärtswahrscheinlichkeit\n",
    "\n",
    "<img src = \"images/6_2-13.jpg\" width=\"500\" style=\"float: left;\">"
   ]
  },
  {
   "cell_type": "markdown",
   "metadata": {},
   "source": [
    "Viterbi-Algorithmus\n",
    "\n",
    "<img src = \"images/6_2-15.jpg\" width=\"500\" style=\"float: left;\">"
   ]
  },
  {
   "cell_type": "markdown",
   "metadata": {},
   "source": [
    "Rückwärtswahrscheinlichkeit\n",
    "\n",
    "<img src = \"images/6_2-14.jpg\" width=\"500\" style=\"float: left;\">"
   ]
  },
  {
   "cell_type": "markdown",
   "metadata": {},
   "source": [
    "Beispiel\n",
    "\n",
    "<img src = \"images/6_2-16.jpg\" width=\"400\" style=\"float: left;\">"
   ]
  }
 ],
 "metadata": {
  "kernelspec": {
   "display_name": "Python 3",
   "language": "python",
   "name": "python3"
  },
  "language_info": {
   "codemirror_mode": {
    "name": "ipython",
    "version": 3
   },
   "file_extension": ".py",
   "mimetype": "text/x-python",
   "name": "python",
   "nbconvert_exporter": "python",
   "pygments_lexer": "ipython3",
   "version": "3.7.7"
  }
 },
 "nbformat": 4,
 "nbformat_minor": 4
}
