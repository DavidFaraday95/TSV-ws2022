{
 "cells": [
  {
   "cell_type": "markdown",
   "metadata": {},
   "source": [
    "### 5.1 Numerische Klassifikatoren\n",
    "#### Abstandsklassifikator\n",
    "<img src=\"images/5_1_1-1.jpg\" width=\"400\">\n",
    "\n",
    "#### Unterscheidungsfunktion\n",
    "<img src=\"images/5_1_2-1.jpg\" width=\"400\">\n",
    "\n",
    "#### Trennflächenfunktion\n",
    "<img src=\"images/5_1_3-1.jpg\" width=\"400\">\n",
    "\n",
    "#### Statistische Klassifikation\n",
    "<img src=\"images/5_1_4-1.jpg\" width=\"400\">\n",
    "<img src=\"images/5_1_4-2.jpg\" width=\"400\">\n",
    "<img src=\"images/5_1_4-3.jpg\" width=\"400\">\n",
    "<img src=\"images/5_1_4-4.jpg\" width=\"400\">"
   ]
  }
 ],
 "metadata": {
  "kernelspec": {
   "display_name": "Python 3",
   "language": "python",
   "name": "python3"
  },
  "language_info": {
   "codemirror_mode": {
    "name": "ipython",
    "version": 3
   },
   "file_extension": ".py",
   "mimetype": "text/x-python",
   "name": "python",
   "nbconvert_exporter": "python",
   "pygments_lexer": "ipython3",
   "version": "3.8.3"
  }
 },
 "nbformat": 4,
 "nbformat_minor": 4
}
